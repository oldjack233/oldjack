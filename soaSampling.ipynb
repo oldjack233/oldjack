{
 "cells": [
  {
   "cell_type": "code",
   "execution_count": 44,
   "metadata": {},
   "outputs": [],
   "source": [
    "import pandas as pd\n",
    "import random\n",
    "import numpy as np\n",
    "import matplotlib.pyplot as plt"
   ]
  },
  {
   "cell_type": "code",
   "execution_count": 2,
   "metadata": {},
   "outputs": [
    {
     "name": "stdout",
     "output_type": "stream",
     "text": [
      "[0.07 0.07 0.16 0.14 0.12 0.1  0.05 0.02]\n"
     ]
    }
   ],
   "source": [
    "#import soa data\n",
    "#trigger event related\n",
    "tobacoUse_P = pd.DataFrame(pd.read_excel (r'soa-data-cleaned.xlsx', sheet_name='tobaco-P'))\n",
    "tobacoUse_A = pd.DataFrame(pd.read_excel (r'soa-data-cleaned.xlsx', sheet_name='tobaco-A'))\n",
    "\n",
    "alcohol_P = pd.DataFrame(pd.read_excel (r'soa-data-cleaned.xlsx', sheet_name='alcohol-P'))\n",
    "alcohol_A = pd.DataFrame(pd.read_excel (r'soa-data-cleaned.xlsx', sheet_name='alcohol-A'))\n",
    "\n",
    "weight_P = pd.DataFrame(pd.read_excel (r'soa-data-cleaned.xlsx', sheet_name='weight-P'))\n",
    "weight_A = pd.DataFrame(pd.read_excel (r'soa-data-cleaned.xlsx', sheet_name='weight-A'))\n",
    "\n",
    "bloodpressure_P = pd.DataFrame(pd.read_excel (r'soa-data-cleaned.xlsx', sheet_name='bloodpressure-P'))\n",
    "bloodpressure_A = pd.DataFrame(pd.read_excel (r'soa-data-cleaned.xlsx', sheet_name='bloodpressure-A'))\n",
    "\n",
    "diabete_P = pd.DataFrame(pd.read_excel (r'soa-data-cleaned.xlsx', sheet_name='diabete-P'))\n",
    "diabete_A = pd.DataFrame(pd.read_excel (r'soa-data-cleaned.xlsx', sheet_name='diabete-A'))\n",
    "\n",
    "cholesterol_P = pd.DataFrame(pd.read_excel (r'soa-data-cleaned.xlsx', sheet_name='cholesterol-P'))\n",
    "cholesterol_A = pd.DataFrame(pd.read_excel (r'soa-data-cleaned.xlsx', sheet_name='cholesterol-A'))\n",
    "\n",
    "phyAct_P = pd.DataFrame(pd.read_excel (r'soa-data-cleaned.xlsx', sheet_name='phyAct-P'))\n",
    "phyAct_A = pd.DataFrame(pd.read_excel (r'soa-data-cleaned.xlsx', sheet_name='phyAct-A'))\n",
    "\n",
    "misAct_P = pd.DataFrame(pd.read_excel (r'soa-data-cleaned.xlsx', sheet_name='misAct-P'))\n",
    "misAct_A = pd.DataFrame(pd.read_excel (r'soa-data-cleaned.xlsx', sheet_name='misAct-A'))\n",
    "\n",
    "#import population data\n",
    "pop_P = pd.DataFrame(pd.read_excel (r'soa-data-cleaned.xlsx', sheet_name='pop-P'))\n",
    "pop_A = pd.DataFrame(pd.read_excel (r'soa-data-cleaned.xlsx', sheet_name='pop-A'))\n",
    "print(np.round(np.array(pop_P['age percent(15-75+)'])[0:8], 2))"
   ]
  },
  {
   "cell_type": "code",
   "execution_count": 3,
   "metadata": {},
   "outputs": [],
   "source": [
    "#sampling for population with respect to age, gender\n",
    "def generate_sample_pop(city, size = 10000, m_rate = 0.5, f_rate = 0.5):\n",
    "    assert(size > 100), \"population size too small!\"\n",
    "    \n",
    "    pop_dis = pd.DataFrame(pd.read_excel (r'soa-data-cleaned.xlsx', sheet_name='pop-' + city))\n",
    "    pop_dis = np.round(np.array(pop_dis['age percent(15-75+)'])[0:8],2)\n",
    "    \n",
    "    pop_rep_m = pop_dis * m_rate * size\n",
    "    pop_rep_m = pop_rep_m.astype(int)\n",
    "    pop_rep_f = pop_dis * f_rate * size\n",
    "    pop_rep_f = pop_rep_f.astype(int)\n",
    "    age_band = np.array([\"15-19\", \"20-24\", \"25-34\", \"35-44\", \"45-54\", \"55-64\", \"65-74\", \"75-99\"])\n",
    "    sampling_ages_M = np.repeat(age_band, pop_rep_m, axis=0)\n",
    "    sampling_ages_F = np.repeat(age_band, pop_rep_f, axis=0)\n",
    "    df = pd.DataFrame({'male' :list(sampling_ages_M), 'female':list(sampling_ages_M)}, columns = [\"male\", \"female\"])\n",
    "    return df\n",
    "\n",
    "    \n",
    "millionP = generate_sample_pop('P', 1000000)"
   ]
  },
  {
   "cell_type": "code",
   "execution_count": null,
   "metadata": {},
   "outputs": [],
   "source": []
  },
  {
   "cell_type": "code",
   "execution_count": 4,
   "metadata": {},
   "outputs": [
    {
     "name": "stdout",
     "output_type": "stream",
     "text": [
      "4986.0\n"
     ]
    },
    {
     "data": {
      "text/plain": [
       "484"
      ]
     },
     "execution_count": 4,
     "metadata": {},
     "output_type": "execute_result"
    }
   ],
   "source": [
    "#select a subset of poplulation from the random generated population\n",
    "\n",
    "#envir var for M/FM's age distri\n",
    "female_sample = pd.DataFrame()\n",
    "male_sample = pd.DataFrame()\n",
    "def bootstrap_pop(df, size):\n",
    "    #random generate a rate between F and M wrt to the true rate\n",
    "    #need randomness as gender is divided up\n",
    "    #change 0.5 if needr\n",
    "    rand = np.random.binomial(size, 0.5, 1)\n",
    "    m_rate = round(np.average(rand),0)\n",
    "    f_rate = size - m_rate\n",
    "    print(m_rate)\n",
    "    male_dis = np.array(df['male'])\n",
    "    sample_dis_m = random.choices(list(male_dis), k=int(m_rate))\n",
    "    male_sample['age'] = sample_dis_m\n",
    "    male_sample[\"count\"] = [1] * int(m_rate)\n",
    "    \n",
    "    female_dis = np.array(df['female'])\n",
    "    sample_dis_fm = random.choices(list(female_dis), k=int(f_rate))\n",
    "    female_sample['age'] = sample_dis_fm\n",
    "    female_sample[\"count\"] = [1] * int(f_rate)\n",
    "\n",
    "\n",
    "bootstrap_pop(millionP, 10000)\n",
    "sp = male_sample.groupby(['age']).count()\n",
    "\n",
    "# ind = str(list(sp.index)[0])\n",
    "\n",
    "int(sp.loc['15-19'])\n"
   ]
  },
  {
   "cell_type": "code",
   "execution_count": 9,
   "metadata": {},
   "outputs": [],
   "source": [
    "#create sub DF for each of the age range\n",
    "#tabaco use were divided into three zones: non-smoker, daily smoker and occasional smoker\n",
    "#each of which will follow the distribution as suggested within specific age range\n",
    "\n",
    "#envir var store 8 DF for each age range\n",
    "dic_df = {}\n",
    "\n",
    "def sample_taboco(city = \"P\"):\n",
    "    age_band = male_sample.groupby(['age']).count().index.tolist()\n",
    "    # number of pp in the sample wrt different age band\n",
    "    gb_m = male_sample.groupby(['age']).count()\n",
    "    gb_fm = female_sample.groupby(['age']).count()\n",
    "    \n",
    "    for i in np.arange(len(age_band)):\n",
    "        if city == \"P\"\n",
    "            distri = tobacoUse_P.iloc[[i]].values.tolist()[0][1:4]\n",
    "        else:\n",
    "            distri = tobacoUse_A.iloc[[i]].values.tolist()[0][1:4]\n",
    "        df = pd.DataFrame()\n",
    "        \n",
    "        for j in np.arange(3):\n",
    "        # j = 0, non-smoker at ageband[i]\n",
    "        # j = 1, daily smoker at ageband[i]\n",
    "        # j = 2, occ smoker at ageband[i]\n",
    "\n",
    "            num = int(round(distri[j] * int(gb_m.loc[age_band[i]]), 0))\n",
    "            ls = [1] * num + [0] * int(gb_m.loc[age_band[i]] - num)\n",
    "#             print(len(ls))\n",
    "            \n",
    "            rd_ls = random.sample(ls, len(ls))\n",
    "            if j == 0:\n",
    "                df['non-smoker'] = rd_ls\n",
    "            elif j == 1:\n",
    "                df['daily-smoker'] = rd_ls\n",
    "            else:\n",
    "                df['occ-smoker'] = rd_ls\n",
    "        \n",
    "        dic_df[age_band[i]] = df\n",
    "#             print(sample15To75[i].head(2))\n",
    "#             print(sample15To75[i+5].head(2))\n",
    "              \n",
    "    return dic_df\n",
    "\n",
    "ls = sample_taboco()"
   ]
  },
  {
   "cell_type": "code",
   "execution_count": 19,
   "metadata": {},
   "outputs": [],
   "source": [
    "def sample_alcho(city = \"P\"):\n",
    "    # a list that ['x-x', 'y-y',...]\n",
    "    age_band = male_sample.groupby(['age']).count().index.tolist()\n",
    "    # number of pp in the sample wrt different age band\n",
    "    gb_m = male_sample.groupby(['age']).count()\n",
    "    gb_fm = female_sample.groupby(['age']).count()\n",
    "    \n",
    "    for i in np.arange(len(age_band)):\n",
    "        if city == \"P\":\n",
    "            distri = alcohol_P.iloc[[i]].values.tolist()[0][1:7]\n",
    "        else:\n",
    "            distri = alcohol_A.iloc[[i]].values.tolist()[0][1:7]\n",
    "        \n",
    "        for j in np.arange(6):\n",
    "        # j = 0, everyday at ageband[i]\n",
    "        # j = 1, every week at ageband[i]\n",
    "        # j = 2, every month at ageband[i]\n",
    "        # j = 3, < 1 per month at ageband[i]\n",
    "        # j = 4, < 1 last year at ageband[i]\n",
    "        # j = 5, never at ageband[i]\n",
    "            df = dic_df[age_band[i]]\n",
    "            num = int(round(distri[j] * int(gb_m.loc[age_band[i]]), 0))\n",
    "            ls = [1] * num + [0] * int(gb_m.loc[age_band[i]] - num)\n",
    "#             print(len(ls))\n",
    "            \n",
    "            rd_ls = random.sample(ls, len(ls))\n",
    "            if j == 0:\n",
    "                df['drink every day'] = rd_ls\n",
    "            elif j == 1:\n",
    "                df['drink every week'] = rd_ls\n",
    "            elif j == 2:\n",
    "                df['drink every month'] = rd_ls\n",
    "            elif j == 3:\n",
    "                df['drink <1 per month'] = rd_ls\n",
    "            elif j == 4:\n",
    "                df['drink <1 last year'] = rd_ls\n",
    "            else:\n",
    "                df['never drink'] = rd_ls\n",
    "        \n",
    "                \n",
    "#             print(sample15To75[i].head(2))\n",
    "#             print(sample15To75[i+5].head(2))\n",
    "sample_alcho()"
   ]
  },
  {
   "cell_type": "code",
   "execution_count": 14,
   "metadata": {},
   "outputs": [
    {
     "data": {
      "text/plain": [
       "[0.0025, 0.0335, 0.1053, 0.1035, 0.1, 0.6552]"
      ]
     },
     "execution_count": 14,
     "metadata": {},
     "output_type": "execute_result"
    }
   ],
   "source": [
    "alcohol_P.iloc[[0]].values.tolist()[0][1:7]"
   ]
  },
  {
   "cell_type": "code",
   "execution_count": 11,
   "metadata": {},
   "outputs": [
    {
     "name": "stdout",
     "output_type": "stream",
     "text": [
      "  Age Band  Every Day  Every Week  Every Month  Less Than Once a Month  \\\n",
      "0    15–19     0.0025      0.0335       0.1053                  0.1035   \n",
      "1    20–24     0.0145      0.1225       0.2575                  0.1493   \n",
      "2    25–34     0.0313      0.1615       0.2725                  0.1483   \n",
      "3    35–44     0.0380      0.1720       0.2608                  0.1435   \n",
      "4    45–54     0.0543      0.1748       0.2313                  0.1500   \n",
      "5    55–64     0.0533      0.1343       0.2048                  0.1460   \n",
      "6    65–74     0.0393      0.0958       0.1588                  0.1388   \n",
      "7      75+     0.0243      0.0520       0.1095                  0.1050   \n",
      "\n",
      "   Not in the Last 12 Months   Never  Never or Not in the Last 12 Months  \n",
      "0                     0.1000  0.6552                              0.7552  \n",
      "1                     0.0988  0.3574                              0.4562  \n",
      "2                     0.1113  0.2751                              0.3864  \n",
      "3                     0.1150  0.2707                              0.3857  \n",
      "4                     0.1268  0.2628                              0.3896  \n",
      "5                     0.1785  0.2831                              0.4616  \n",
      "6                     0.2348  0.3325                              0.5673  \n",
      "7                     0.3015  0.4077                              0.7092  \n"
     ]
    }
   ],
   "source": [
    "print(alcohol_P)"
   ]
  },
  {
   "cell_type": "code",
   "execution_count": 161,
   "metadata": {},
   "outputs": [
    {
     "data": {
      "text/plain": [
       "Index(['cobra', 'viper', 'sidewinder'], dtype='object')"
      ]
     },
     "execution_count": 161,
     "metadata": {},
     "output_type": "execute_result"
    }
   ],
   "source": [
    "dd=pd.DataFrame([[1, 2], [4, 5], [7, 8]],\n",
    "      index=['cobra', 'viper', 'sidewinder'],\n",
    "      columns=['max_speed', 'shield'])\n",
    "dd.index"
   ]
  },
  {
   "cell_type": "code",
   "execution_count": 119,
   "metadata": {},
   "outputs": [
    {
     "data": {
      "text/plain": [
       "21"
      ]
     },
     "execution_count": 119,
     "metadata": {},
     "output_type": "execute_result"
    }
   ],
   "source": [
    "#COMPUTE Y=X*r+Y*SQRT(1-r**2)\n",
    "r = 0.9\n",
    "x = np.array([0] * 35 + [1] * 65) #alcho\n",
    "y = np.array([0] * 70 + [1] * 30) #smoke\n",
    "\n",
    "cov = np.cov(np.array([[0] * 35 + [1] * 65,[0] * 70 + [1] * 30]))\n",
    "# y2 = x*r + y**(1 - r**2)\n",
    "# y2 \n",
    "cov_ab = 0.75 * (0.22**0.5)*(0.21**0.5)\n",
    "cov[0][1] = cov_ab\n",
    "cov[1][0] = cov_ab\n",
    "y = np.random.multivariate_normal(np.array([0.65, 0.3]), cov, size=100)\n",
    "# plt.plot(y)\n",
    "# y2 = y.T\n",
    "# for x in y2[0]:\n",
    "#     if x > 0:\n",
    "#         x = 1\n",
    "#     else:\n",
    "#         x = 0\n",
    "# y2\n",
    "y.T\n",
    "\n",
    "count = 0\n",
    "for x in np.arange(100):\n",
    "    if y.T[0][x] > 0.75 and y.T[1][x] > 0.75:\n",
    "        count += 1\n",
    "\n",
    "count"
   ]
  },
  {
   "cell_type": "code",
   "execution_count": null,
   "metadata": {},
   "outputs": [],
   "source": []
  },
  {
   "cell_type": "code",
   "execution_count": null,
   "metadata": {},
   "outputs": [],
   "source": []
  }
 ],
 "metadata": {
  "kernelspec": {
   "display_name": "Python 3",
   "language": "python",
   "name": "python3"
  },
  "language_info": {
   "codemirror_mode": {
    "name": "ipython",
    "version": 3
   },
   "file_extension": ".py",
   "mimetype": "text/x-python",
   "name": "python",
   "nbconvert_exporter": "python",
   "pygments_lexer": "ipython3",
   "version": "3.7.3"
  }
 },
 "nbformat": 4,
 "nbformat_minor": 2
}
